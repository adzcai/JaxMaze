{
 "cells": [
  {
   "cell_type": "code",
   "execution_count": 1,
   "id": "3af74722-fc6e-40e8-9d6d-102cc71e5b05",
   "metadata": {},
   "outputs": [],
   "source": [
    "%load_ext autoreload\n",
    "%autoreload 2"
   ]
  },
  {
   "cell_type": "code",
   "execution_count": 31,
   "id": "2c3752e6-3cec-49b6-9ddd-a8b052ef6037",
   "metadata": {},
   "outputs": [],
   "source": [
    "import jax\n",
    "import maze\n",
    "import renderer\n",
    "import os.path\n",
    "import numpy as np\n",
    "import levels\n",
    "import utils\n",
    "import matplotlib.pyplot as plt"
   ]
  },
  {
   "cell_type": "code",
   "execution_count": 9,
   "id": "c95dfcc0-3565-4992-b316-b1b27693afac",
   "metadata": {},
   "outputs": [],
   "source": [
    "image_dict = renderer.load_image_dict('image_data.pkl')"
   ]
  },
  {
   "cell_type": "code",
   "execution_count": 10,
   "id": "dff490d8-572f-4938-8f89-2e5fd53cb03f",
   "metadata": {},
   "outputs": [],
   "source": [
    "if os.path.exists('list_of_groups.npy'):\n",
    "  list_of_groups = np.load('list_of_groups.npy')\n",
    "else:\n",
    "  raise RuntimeError(\"Missing file specifying groups for maze\")\n"
   ]
  },
  {
   "cell_type": "code",
   "execution_count": 41,
   "id": "8c6ed5b9-3781-41b4-81a6-b5286ce80474",
   "metadata": {},
   "outputs": [
    {
     "data": {
      "text/plain": [
       "array([[26, 40],\n",
       "       [47, 43],\n",
       "       [25, 30]], dtype=int32)"
      ]
     },
     "execution_count": 41,
     "metadata": {},
     "output_type": "execute_result"
    }
   ],
   "source": [
    "group_set = list_of_groups[0]\n",
    "pretrain_level = levels.two_objects\n",
    "train_level = levels.three_pairs_maze1\n",
    "group_set = group_set[:3]\n",
    "group_set"
   ]
  },
  {
   "cell_type": "code",
   "execution_count": 42,
   "id": "53618423-08ec-415b-8e77-0e36dc2c4e19",
   "metadata": {},
   "outputs": [
    {
     "data": {
      "image/png": "[encoded data removed]",
      "text/plain": [
       "<Figure size 640x480 with 1 Axes>"
      ]
     },
     "metadata": {},
     "output_type": "display_data"
    },
    {
     "data": {
      "text/plain": [
       "(array([[ 0,  1,  0, 47,  0,  0,  0,  1,  1,  0,  0,  0,  0],\n",
       "        [ 0,  1,  0,  0, 43,  0,  0,  0,  1,  1,  1,  1,  0],\n",
       "        [ 0,  1,  1,  1,  1,  1,  1,  0,  0,  0,  0,  0,  0],\n",
       "        [ 0,  0,  0,  0,  0,  0,  1,  1,  1,  1,  1,  1,  0],\n",
       "        [ 0,  1,  0,  1,  0,  0,  1,  0,  0,  0,  0,  0,  0],\n",
       "        [ 0,  1,  0,  1,  0,  1,  1,  0,  0,  1,  0,  0,  0],\n",
       "        [ 1,  1,  0,  1,  0,  1,  0,  0,  1,  1,  1,  0,  1],\n",
       "        [26,  0,  0,  1,  0,  1,  1,  0,  0,  1,  0,  0,  0],\n",
       "        [ 0, 40,  0,  1,  0,  0,  0,  0,  0,  0,  0,  0,  0],\n",
       "        [ 1,  1,  1,  1,  1,  0,  1,  0,  0,  1,  1,  1,  1],\n",
       "        [ 0,  0,  0,  0,  0,  0,  1,  1,  1,  1,  0,  1,  0],\n",
       "        [ 0,  1,  1,  1,  1,  1,  1, 25,  0,  1,  0,  1,  0],\n",
       "        [ 0,  0,  0,  0,  0,  0,  0,  0, 30,  1,  0,  0,  0]], dtype=uint8),\n",
       " array([26, 47, 25], dtype=int32))"
      ]
     },
     "execution_count": 42,
     "metadata": {},
     "output_type": "execute_result"
    }
   ],
   "source": [
    "train_objects = group_set[:,0]\n",
    "test_objects = group_set[:,1]\n",
    "map_init = utils.from_str(\n",
    "    train_level,\n",
    "    char_to_key=dict(\n",
    "        A=group_set[0,0],\n",
    "        B=group_set[0,1],\n",
    "        C=group_set[1,0],\n",
    "        D=group_set[1,1],\n",
    "        E=group_set[2,0],\n",
    "        F=group_set[2,1],\n",
    "    ))\n",
    "\n",
    "\n",
    "image = renderer.create_image_from_grid(\n",
    "    map_init.grid, map_init.agent_pos, map_init.agent_dir, image_dict)\n",
    "plt.imshow(image)\n",
    "plt.show()\n",
    "map_init.grid[:,:,0], train_objects"
   ]
  },
  {
   "cell_type": "code",
   "execution_count": 55,
   "id": "8fd8ebac-abe8-4303-a882-b6375fafa4ce",
   "metadata": {},
   "outputs": [],
   "source": [
    "num_starting_locs = 4\n",
    "max_starting_locs = 10\n",
    "all_starting_locs = np.ones((len(group_set), max_starting_locs, 2))*-1\n",
    "for idx, goal in enumerate(train_objects):\n",
    "    path = utils.find_optimal_path(map_init.grid, map_init.agent_pos, np.array([goal]))\n",
    "    # print(path)\n",
    "    path_len = len(path)\n",
    "    width = path_len//num_starting_locs\n",
    "    starting_locs = np.array([path[i] for i in range(0, path_len, width)])\n",
    "    all_starting_locs[idx,:len(starting_locs)] = starting_locs\n",
    "\n",
    "list_of_reset_params = [\n",
    "    maze.ResetParams(\n",
    "        map_init=map_init,\n",
    "        train_objects=train_objects,\n",
    "        test_objects=test_objects,\n",
    "        starting_locs=all_starting_locs,\n",
    "    )\n",
    "\n",
    "]\n",
    "\n",
    "for group in group_set:\n",
    "    list_of_reset_params.append(\n",
    "        maze.ResetParams(\n",
    "            map_init=utils.from_str(pretrain_level, char_to_key=dict(A=group[0], B=group[1])),\n",
    "            train_objects=group[:1],\n",
    "            test_objects=group[1:],\n",
    "        )\n",
    "    )"
   ]
  },
  {
   "cell_type": "code",
   "execution_count": 57,
   "id": "66151003-f5df-4e93-a316-466f75c7f931",
   "metadata": {},
   "outputs": [],
   "source": [
    "env_params = maze.EnvParams(\n",
    "    reset_params=list_of_reset_params,\n",
    ")"
   ]
  },
  {
   "cell_type": "code",
   "execution_count": 61,
   "id": "adb31a5e-e978-4d88-9aa5-8ade20277509",
   "metadata": {},
   "outputs": [
    {
     "ename": "AttributeError",
     "evalue": "'EnvParams' object has no attribute 'train_objects'",
     "output_type": "error",
     "traceback": [
      "\u001b[0;31m---------------------------------------------------------------------------\u001b[0m",
      "\u001b[0;31mAttributeError\u001b[0m                            Traceback (most recent call last)",
      "Cell \u001b[0;32mIn[61], line 6\u001b[0m\n\u001b[1;32m      2\u001b[0m rng \u001b[38;5;241m=\u001b[39m jax\u001b[38;5;241m.\u001b[39mrandom\u001b[38;5;241m.\u001b[39mPRNGKey(seed)\n\u001b[1;32m      4\u001b[0m env \u001b[38;5;241m=\u001b[39m maze\u001b[38;5;241m.\u001b[39mHouseMaze()\n\u001b[0;32m----> 6\u001b[0m timestep \u001b[38;5;241m=\u001b[39m \u001b[43menv\u001b[49m\u001b[38;5;241;43m.\u001b[39;49m\u001b[43mreset\u001b[49m\u001b[43m(\u001b[49m\u001b[43menv_params\u001b[49m\u001b[43m,\u001b[49m\u001b[43m \u001b[49m\u001b[43mseed\u001b[49m\u001b[43m)\u001b[49m\n",
      "File \u001b[0;32m~/git/research/jaxneurorl/projects/humansf/housemaze/maze.py:104\u001b[0m, in \u001b[0;36mHouseMaze.reset\u001b[0;34m(self, params, rng)\u001b[0m\n\u001b[1;32m    101\u001b[0m \u001b[38;5;28;01mdef\u001b[39;00m \u001b[38;5;21mreset\u001b[39m(\u001b[38;5;28mself\u001b[39m, params: EnvParams, rng: jax\u001b[38;5;241m.\u001b[39mArray) \u001b[38;5;241m-\u001b[39m\u001b[38;5;241m>\u001b[39m TimeStep:\n\u001b[1;32m    103\u001b[0m     object_idxs \u001b[38;5;241m=\u001b[39m jnp\u001b[38;5;241m.\u001b[39mconcatenate(\n\u001b[0;32m--> 104\u001b[0m         (\u001b[43mparams\u001b[49m\u001b[38;5;241;43m.\u001b[39;49m\u001b[43mtrain_objects\u001b[49m,\n\u001b[1;32m    105\u001b[0m          params\u001b[38;5;241m.\u001b[39mtest_objects))\n\u001b[1;32m    107\u001b[0m     ntrain \u001b[38;5;241m=\u001b[39m \u001b[38;5;28mlen\u001b[39m(params\u001b[38;5;241m.\u001b[39mtrain_objects)\n\u001b[1;32m    108\u001b[0m     ntest \u001b[38;5;241m=\u001b[39m \u001b[38;5;28mlen\u001b[39m(params\u001b[38;5;241m.\u001b[39mtest_objects)\n",
      "\u001b[0;31mAttributeError\u001b[0m: 'EnvParams' object has no attribute 'train_objects'"
     ]
    }
   ],
   "source": [
    "seed = 0\n",
    "rng = jax.random.PRNGKey(seed)\n",
    "\n",
    "env = maze.HouseMaze()\n",
    "\n",
    "timestep = env.reset(env_params, seed)\n"
   ]
  },
  {
   "cell_type": "code",
   "execution_count": null,
   "id": "22d61b04-790e-4ed6-8ff4-0d50f7be025e",
   "metadata": {},
   "outputs": [],
   "source": []
  }
 ],
 "metadata": {
  "kernelspec": {
   "display_name": "Python 3 (ipykernel)",
   "language": "python",
   "name": "python3"
  },
  "language_info": {
   "codemirror_mode": {
    "name": "ipython",
    "version": 3
   },
   "file_extension": ".py",
   "mimetype": "text/x-python",
   "name": "python",
   "nbconvert_exporter": "python",
   "pygments_lexer": "ipython3",
   "version": "3.10.0"
  }
 },
 "nbformat": 4,
 "nbformat_minor": 5
}
